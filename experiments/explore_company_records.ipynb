{
 "cells": [
  {
   "cell_type": "markdown",
   "id": "3179a9be",
   "metadata": {},
   "source": [
    "# Explore Company Records\n",
    "\n",
    "**Author:** Hai Ran Zheng\n",
    "\n",
    "**Date:** April 18th, 2025\n",
    "\n",
    "**Description:** Look into possible Data Quality issues for web crawled data "
   ]
  },
  {
   "cell_type": "markdown",
   "id": "f9f560aa",
   "metadata": {},
   "source": [
    "## Set Up Packages and Paths"
   ]
  },
  {
   "cell_type": "code",
   "execution_count": 235,
   "id": "dbb76c07",
   "metadata": {},
   "outputs": [],
   "source": [
    "import sys\n",
    "import os\n",
    "root_path = os.path.dirname(os.path.abspath(os.curdir))\n",
    "sys.path.insert(0, root_path)\n",
    "dataset_path = os.path.join(root_path, \"output\")"
   ]
  },
  {
   "cell_type": "code",
   "execution_count": 236,
   "id": "1bbc057c",
   "metadata": {},
   "outputs": [],
   "source": [
    "# Load DataFrame\n",
    "import polars as pl\n",
    "df = pl.read_ndjson(os.path.join(dataset_path, \"company_records.jsonl\"))"
   ]
  },
  {
   "cell_type": "markdown",
   "id": "1eb692ef",
   "metadata": {},
   "source": [
    "## Titles that don't start with X"
   ]
  },
  {
   "cell_type": "code",
   "execution_count": 237,
   "id": "1a0252ef",
   "metadata": {},
   "outputs": [
    {
     "data": {
      "text/plain": [
       "216"
      ]
     },
     "execution_count": 237,
     "metadata": {},
     "output_type": "execute_result"
    }
   ],
   "source": [
    "len(df)"
   ]
  },
  {
   "cell_type": "code",
   "execution_count": 238,
   "id": "073bb0cd",
   "metadata": {},
   "outputs": [
    {
     "data": {
      "text/plain": [
       "196"
      ]
     },
     "execution_count": 238,
     "metadata": {},
     "output_type": "execute_result"
    }
   ],
   "source": [
    "len(df.filter(\n",
    "    pl.col(\"TITLE\").list.get(0).str.to_lowercase().str.starts_with(\"x\")\n",
    "))\n"
   ]
  },
  {
   "cell_type": "markdown",
   "id": "7d926d8e",
   "metadata": {},
   "source": [
    "Around 20 companies whose title doesn't start with x, but is returned from query on the webapp"
   ]
  },
  {
   "cell_type": "code",
   "execution_count": 104,
   "id": "a63f3e57",
   "metadata": {},
   "outputs": [
    {
     "data": {
      "text/html": [
       "<div><style>\n",
       ".dataframe > thead > tr,\n",
       ".dataframe > tbody > tr {\n",
       "  text-align: right;\n",
       "  white-space: pre-wrap;\n",
       "}\n",
       "</style>\n",
       "<small>shape: (5, 14)</small><table border=\"1\" class=\"dataframe\"><thead><tr><th>SORT_INDEX</th><th>TITLE</th><th>ID</th><th>FILING_DATE</th><th>RECORD_NUM</th><th>STATUS</th><th>STANDING</th><th>ALERT</th><th>CAN_REINSTATE</th><th>CAN_FILE_AR</th><th>CAN_ALWAYS_FILE_AR</th><th>CAN_FILE_REINSTATEMENT</th><th>ID_key</th><th>DRAWER_DETAIL_LIST</th></tr><tr><td>i64</td><td>list[str]</td><td>i64</td><td>str</td><td>str</td><td>str</td><td>str</td><td>bool</td><td>bool</td><td>bool</td><td>bool</td><td>bool</td><td>str</td><td>list[struct[5]]</td></tr></thead><tbody><tr><td>0</td><td>[&quot;Accurate INSPEX, LLC&quot;, &quot;Limited Liability Company - Business - Foreign&quot;]</td><td>171478</td><td>&quot;09/24/2018&quot;</td><td>&quot;0000171856&quot;</td><td>&quot;Active&quot;</td><td>&quot;Good Standing&quot;</td><td>false</td><td>false</td><td>false</td><td>false</td><td>false</td><td>&quot;171478&quot;</td><td>[{&quot;Filing Type&quot;,&quot;Limited Liability Company - Business - Foreign&quot;,null,null,false}, {&quot;Status&quot;,&quot;Active&quot;,null,null,false}, … {&quot;Commercial Registered Agent&quot;,&quot;COGENCY GLOBAL INC.\n",
       "120 W SWEET AVE STE 9\n",
       "BISMARCK, ND&nbsp;&nbsp;58504&quot;,null,null,false}]</td></tr><tr><td>19</td><td>[&quot;RXO Last Mile, Inc.&quot;, &quot;Corporation - Business - Foreign&quot;]</td><td>90563</td><td>&quot;01/31/2008&quot;</td><td>&quot;0000090931&quot;</td><td>&quot;Active&quot;</td><td>&quot;Good Standing&quot;</td><td>false</td><td>false</td><td>true</td><td>true</td><td>false</td><td>&quot;90563&quot;</td><td>[{&quot;Filing Type&quot;,&quot;Corporation - Business - Foreign&quot;,null,null,false}, {&quot;Status&quot;,&quot;Active&quot;,null,null,false}, … {&quot;Commercial Registered Agent&quot;,&quot;REGISTERED AGENT SOLUTIONS, INC.\n",
       "1709 N 19TH ST STE 3\n",
       "BISMARCK, ND&nbsp;&nbsp;58501-2121&quot;,null,null,false}]</td></tr><tr><td>16</td><td>[&quot;Miller Underground, LLC&quot;, &quot;Limited Liability Company - Business - Domestic&quot;]</td><td>153110</td><td>&quot;04/25/2016&quot;</td><td>&quot;0000153484&quot;</td><td>&quot;Active&quot;</td><td>&quot;Good Standing&quot;</td><td>false</td><td>false</td><td>false</td><td>false</td><td>false</td><td>&quot;153110&quot;</td><td>[{&quot;Filing Type&quot;,&quot;Limited Liability Company - Business - Domestic&quot;,null,null,false}, {&quot;Status&quot;,&quot;Active&quot;,null,null,false}, … {&quot;Registered Agent&quot;,&quot;JARED&nbsp;&nbsp;MILLER\n",
       "701 SUNFLOWER DR\n",
       "BISMARCK, ND&nbsp;&nbsp;58503&quot;,null,null,false}]</td></tr><tr><td>15</td><td>[&quot;MCKESSON MEDICAL-SURGICAL MEDIMART INC.&quot;, &quot;Corporation - Business - Foreign&quot;]</td><td>31989</td><td>&quot;04/22/1991&quot;</td><td>&quot;0000032178&quot;</td><td>&quot;Active&quot;</td><td>&quot;Good Standing&quot;</td><td>false</td><td>false</td><td>true</td><td>true</td><td>false</td><td>&quot;31989&quot;</td><td>[{&quot;Filing Type&quot;,&quot;Corporation - Business - Foreign&quot;,null,null,false}, {&quot;Status&quot;,&quot;Active&quot;,null,null,false}, … {&quot;Commercial Registered Agent&quot;,&quot;CORPORATION SERVICE COMPANY\n",
       "418 N 2ND ST\n",
       "BISMARCK, ND&nbsp;&nbsp;58501&quot;,null,null,false}]</td></tr><tr><td>18</td><td>[&quot;RXO Corporate Solutions, LLC&quot;, &quot;Limited Liability Company - Business - Foreign&quot;]</td><td>337397</td><td>&quot;06/10/2022&quot;</td><td>&quot;0005914988&quot;</td><td>&quot;Active&quot;</td><td>&quot;Good Standing&quot;</td><td>false</td><td>false</td><td>false</td><td>false</td><td>false</td><td>&quot;337397&quot;</td><td>[{&quot;Filing Type&quot;,&quot;Limited Liability Company - Business - Foreign&quot;,null,null,false}, {&quot;Status&quot;,&quot;Active&quot;,null,null,false}, … {&quot;Commercial Registered Agent&quot;,&quot;REGISTERED AGENT SOLUTIONS, INC.\n",
       "1709 N 19TH ST STE 3\n",
       "BISMARCK, ND&nbsp;&nbsp;58501-2121&quot;,null,null,false}]</td></tr></tbody></table></div>"
      ],
      "text/plain": [
       "shape: (5, 14)\n",
       "┌────────────┬────────────┬────────┬────────────┬───┬────────────┬────────────┬────────┬───────────┐\n",
       "│ SORT_INDEX ┆ TITLE      ┆ ID     ┆ FILING_DAT ┆ … ┆ CAN_ALWAYS ┆ CAN_FILE_R ┆ ID_key ┆ DRAWER_DE │\n",
       "│ ---        ┆ ---        ┆ ---    ┆ E          ┆   ┆ _FILE_AR   ┆ EINSTATEME ┆ ---    ┆ TAIL_LIST │\n",
       "│ i64        ┆ list[str]  ┆ i64    ┆ ---        ┆   ┆ ---        ┆ NT         ┆ str    ┆ ---       │\n",
       "│            ┆            ┆        ┆ str        ┆   ┆ bool       ┆ ---        ┆        ┆ list[stru │\n",
       "│            ┆            ┆        ┆            ┆   ┆            ┆ bool       ┆        ┆ ct[5]]    │\n",
       "╞════════════╪════════════╪════════╪════════════╪═══╪════════════╪════════════╪════════╪═══════════╡\n",
       "│ 0          ┆ [\"Accurate ┆ 171478 ┆ 09/24/2018 ┆ … ┆ false      ┆ false      ┆ 171478 ┆ [{\"Filing │\n",
       "│            ┆ INSPEX,    ┆        ┆            ┆   ┆            ┆            ┆        ┆ Type\",\"Li │\n",
       "│            ┆ LLC\",      ┆        ┆            ┆   ┆            ┆            ┆        ┆ mited     │\n",
       "│            ┆ \"Limi…     ┆        ┆            ┆   ┆            ┆            ┆        ┆ Liabi…    │\n",
       "│ 19         ┆ [\"RXO Last ┆ 90563  ┆ 01/31/2008 ┆ … ┆ true       ┆ false      ┆ 90563  ┆ [{\"Filing │\n",
       "│            ┆ Mile,      ┆        ┆            ┆   ┆            ┆            ┆        ┆ Type\",\"Co │\n",
       "│            ┆ Inc.\",     ┆        ┆            ┆   ┆            ┆            ┆        ┆ rporation │\n",
       "│            ┆ \"Corpo…    ┆        ┆            ┆   ┆            ┆            ┆        ┆ -…        │\n",
       "│ 16         ┆ [\"Miller   ┆ 153110 ┆ 04/25/2016 ┆ … ┆ false      ┆ false      ┆ 153110 ┆ [{\"Filing │\n",
       "│            ┆ Undergroun ┆        ┆            ┆   ┆            ┆            ┆        ┆ Type\",\"Li │\n",
       "│            ┆ d, LLC\",   ┆        ┆            ┆   ┆            ┆            ┆        ┆ mited     │\n",
       "│            ┆ \"L…        ┆        ┆            ┆   ┆            ┆            ┆        ┆ Liabi…    │\n",
       "│ 15         ┆ [\"MCKESSON ┆ 31989  ┆ 04/22/1991 ┆ … ┆ true       ┆ false      ┆ 31989  ┆ [{\"Filing │\n",
       "│            ┆ MEDICAL-SU ┆        ┆            ┆   ┆            ┆            ┆        ┆ Type\",\"Co │\n",
       "│            ┆ RGICAL ME… ┆        ┆            ┆   ┆            ┆            ┆        ┆ rporation │\n",
       "│            ┆            ┆        ┆            ┆   ┆            ┆            ┆        ┆ -…        │\n",
       "│ 18         ┆ [\"RXO      ┆ 337397 ┆ 06/10/2022 ┆ … ┆ false      ┆ false      ┆ 337397 ┆ [{\"Filing │\n",
       "│            ┆ Corporate  ┆        ┆            ┆   ┆            ┆            ┆        ┆ Type\",\"Li │\n",
       "│            ┆ Solutions, ┆        ┆            ┆   ┆            ┆            ┆        ┆ mited     │\n",
       "│            ┆ LLC…       ┆        ┆            ┆   ┆            ┆            ┆        ┆ Liabi…    │\n",
       "└────────────┴────────────┴────────┴────────────┴───┴────────────┴────────────┴────────┴───────────┘"
      ]
     },
     "execution_count": 104,
     "metadata": {},
     "output_type": "execute_result"
    }
   ],
   "source": [
    "df.filter(\n",
    "    ~pl.col(\"TITLE\").list.get(0).str.to_lowercase().str.starts_with(\"x\")\n",
    ").head()"
   ]
  },
  {
   "cell_type": "markdown",
   "id": "c1010354",
   "metadata": {},
   "source": [
    "## Remove Duplicates"
   ]
  },
  {
   "cell_type": "code",
   "execution_count": null,
   "id": "4dee09cb",
   "metadata": {},
   "outputs": [],
   "source": [
    "# Since title is stored in array, let's move them to their individual dataframe columns\n",
    "df = df.with_columns(\n",
    "    COMPANY_TITLE=pl.col(\"TITLE\").list[0],\n",
    "    COMPANY_TYPE=pl.col(\"TITLE\").list[1]\n",
    ")"
   ]
  },
  {
   "cell_type": "code",
   "execution_count": 107,
   "id": "5a1bef02",
   "metadata": {},
   "outputs": [],
   "source": [
    "duplicated_company_titles = df.filter(pl.col(\"COMPANY_TITLE\").is_duplicated())"
   ]
  },
  {
   "cell_type": "code",
   "execution_count": 108,
   "id": "3af7f179",
   "metadata": {},
   "outputs": [
    {
     "data": {
      "text/html": [
       "<div><style>\n",
       ".dataframe > thead > tr,\n",
       ".dataframe > tbody > tr {\n",
       "  text-align: right;\n",
       "  white-space: pre-wrap;\n",
       "}\n",
       "</style>\n",
       "<small>shape: (0, 16)</small><table border=\"1\" class=\"dataframe\"><thead><tr><th>SORT_INDEX</th><th>TITLE</th><th>ID</th><th>FILING_DATE</th><th>RECORD_NUM</th><th>STATUS</th><th>STANDING</th><th>ALERT</th><th>CAN_REINSTATE</th><th>CAN_FILE_AR</th><th>CAN_ALWAYS_FILE_AR</th><th>CAN_FILE_REINSTATEMENT</th><th>ID_key</th><th>DRAWER_DETAIL_LIST</th><th>COMPANY_TITLE</th><th>COMPANY_TYPE</th></tr><tr><td>i64</td><td>list[str]</td><td>i64</td><td>str</td><td>str</td><td>str</td><td>str</td><td>bool</td><td>bool</td><td>bool</td><td>bool</td><td>bool</td><td>str</td><td>list[struct[5]]</td><td>str</td><td>str</td></tr></thead><tbody></tbody></table></div>"
      ],
      "text/plain": [
       "shape: (0, 16)\n",
       "┌────────────┬───────────┬─────┬─────────────┬───┬────────┬─────────────┬─────────────┬────────────┐\n",
       "│ SORT_INDEX ┆ TITLE     ┆ ID  ┆ FILING_DATE ┆ … ┆ ID_key ┆ DRAWER_DETA ┆ COMPANY_TIT ┆ COMPANY_TY │\n",
       "│ ---        ┆ ---       ┆ --- ┆ ---         ┆   ┆ ---    ┆ IL_LIST     ┆ LE          ┆ PE         │\n",
       "│ i64        ┆ list[str] ┆ i64 ┆ str         ┆   ┆ str    ┆ ---         ┆ ---         ┆ ---        │\n",
       "│            ┆           ┆     ┆             ┆   ┆        ┆ list[struct ┆ str         ┆ str        │\n",
       "│            ┆           ┆     ┆             ┆   ┆        ┆ [5]]        ┆             ┆            │\n",
       "╞════════════╪═══════════╪═════╪═════════════╪═══╪════════╪═════════════╪═════════════╪════════════╡\n",
       "└────────────┴───────────┴─────┴─────────────┴───┴────────┴─────────────┴─────────────┴────────────┘"
      ]
     },
     "execution_count": 108,
     "metadata": {},
     "output_type": "execute_result"
    }
   ],
   "source": [
    "duplicated_company_titles.sort(\"COMPANY_TITLE\").head(10)"
   ]
  },
  {
   "cell_type": "code",
   "execution_count": 109,
   "id": "56482237",
   "metadata": {},
   "outputs": [
    {
     "data": {
      "text/plain": [
       "0"
      ]
     },
     "execution_count": 109,
     "metadata": {},
     "output_type": "execute_result"
    }
   ],
   "source": [
    "len(duplicated_company_titles.unique(\"COMPANY_TITLE\"))"
   ]
  },
  {
   "cell_type": "markdown",
   "id": "23e8a8ab",
   "metadata": {},
   "source": [
    "No COMPANY_TITLE duplicates found, good"
   ]
  },
  {
   "cell_type": "markdown",
   "id": "d4857ea1",
   "metadata": {},
   "source": [
    "## Investigate Missing Graph Relationships\n",
    "\n",
    "From logs, I noticed 2 businesses were not capturing any graph relationships from our expected columns: OWNER_NAME, COMMERCIAL_REGISTERED_AGENT, OR REGISTERED_AGENT. I discovered the a new field OWNERS need to be captured, let's see how this column works.\n",
    "\n",
    "We need to move DRAWER_DETAIL_LIST into our columns first"
   ]
  },
  {
   "cell_type": "code",
   "execution_count": 110,
   "id": "360955c7",
   "metadata": {},
   "outputs": [],
   "source": [
    "expanded = (\n",
    "    df.explode(\"DRAWER_DETAIL_LIST\")\n",
    "      .unnest(\"DRAWER_DETAIL_LIST\")\n",
    ")"
   ]
  },
  {
   "cell_type": "code",
   "execution_count": 111,
   "id": "bcb8a543",
   "metadata": {},
   "outputs": [
    {
     "data": {
      "text/html": [
       "<div><style>\n",
       ".dataframe > thead > tr,\n",
       ".dataframe > tbody > tr {\n",
       "  text-align: right;\n",
       "  white-space: pre-wrap;\n",
       "}\n",
       "</style>\n",
       "<small>shape: (5, 20)</small><table border=\"1\" class=\"dataframe\"><thead><tr><th>SORT_INDEX</th><th>TITLE</th><th>ID</th><th>FILING_DATE</th><th>RECORD_NUM</th><th>STATUS</th><th>STANDING</th><th>ALERT</th><th>CAN_REINSTATE</th><th>CAN_FILE_AR</th><th>CAN_ALWAYS_FILE_AR</th><th>CAN_FILE_REINSTATEMENT</th><th>ID_key</th><th>LABEL</th><th>VALUE</th><th>TYPE</th><th>LINKLABEL</th><th>ALERT_YN</th><th>COMPANY_TITLE</th><th>COMPANY_TYPE</th></tr><tr><td>i64</td><td>list[str]</td><td>i64</td><td>str</td><td>str</td><td>str</td><td>str</td><td>bool</td><td>bool</td><td>bool</td><td>bool</td><td>bool</td><td>str</td><td>str</td><td>str</td><td>null</td><td>null</td><td>bool</td><td>str</td><td>str</td></tr></thead><tbody><tr><td>0</td><td>[&quot;Accurate INSPEX, LLC&quot;, &quot;Limited Liability Company - Business - Foreign&quot;]</td><td>171478</td><td>&quot;09/24/2018&quot;</td><td>&quot;0000171856&quot;</td><td>&quot;Active&quot;</td><td>&quot;Good Standing&quot;</td><td>false</td><td>false</td><td>false</td><td>false</td><td>false</td><td>&quot;171478&quot;</td><td>&quot;Filing Type&quot;</td><td>&quot;Limited Liability Company - Bu…</td><td>null</td><td>null</td><td>false</td><td>&quot;Accurate INSPEX, LLC&quot;</td><td>&quot;Limited Liability Company - Bu…</td></tr><tr><td>0</td><td>[&quot;Accurate INSPEX, LLC&quot;, &quot;Limited Liability Company - Business - Foreign&quot;]</td><td>171478</td><td>&quot;09/24/2018&quot;</td><td>&quot;0000171856&quot;</td><td>&quot;Active&quot;</td><td>&quot;Good Standing&quot;</td><td>false</td><td>false</td><td>false</td><td>false</td><td>false</td><td>&quot;171478&quot;</td><td>&quot;Status&quot;</td><td>&quot;Active&quot;</td><td>null</td><td>null</td><td>false</td><td>&quot;Accurate INSPEX, LLC&quot;</td><td>&quot;Limited Liability Company - Bu…</td></tr><tr><td>0</td><td>[&quot;Accurate INSPEX, LLC&quot;, &quot;Limited Liability Company - Business - Foreign&quot;]</td><td>171478</td><td>&quot;09/24/2018&quot;</td><td>&quot;0000171856&quot;</td><td>&quot;Active&quot;</td><td>&quot;Good Standing&quot;</td><td>false</td><td>false</td><td>false</td><td>false</td><td>false</td><td>&quot;171478&quot;</td><td>&quot;Standing - AR&quot;</td><td>&quot;Good&quot;</td><td>null</td><td>null</td><td>false</td><td>&quot;Accurate INSPEX, LLC&quot;</td><td>&quot;Limited Liability Company - Bu…</td></tr><tr><td>0</td><td>[&quot;Accurate INSPEX, LLC&quot;, &quot;Limited Liability Company - Business - Foreign&quot;]</td><td>171478</td><td>&quot;09/24/2018&quot;</td><td>&quot;0000171856&quot;</td><td>&quot;Active&quot;</td><td>&quot;Good Standing&quot;</td><td>false</td><td>false</td><td>false</td><td>false</td><td>false</td><td>&quot;171478&quot;</td><td>&quot;Standing - RA&quot;</td><td>&quot;Good&quot;</td><td>null</td><td>null</td><td>false</td><td>&quot;Accurate INSPEX, LLC&quot;</td><td>&quot;Limited Liability Company - Bu…</td></tr><tr><td>0</td><td>[&quot;Accurate INSPEX, LLC&quot;, &quot;Limited Liability Company - Business - Foreign&quot;]</td><td>171478</td><td>&quot;09/24/2018&quot;</td><td>&quot;0000171856&quot;</td><td>&quot;Active&quot;</td><td>&quot;Good Standing&quot;</td><td>false</td><td>false</td><td>false</td><td>false</td><td>false</td><td>&quot;171478&quot;</td><td>&quot;Standing - Other&quot;</td><td>&quot;Good&quot;</td><td>null</td><td>null</td><td>false</td><td>&quot;Accurate INSPEX, LLC&quot;</td><td>&quot;Limited Liability Company - Bu…</td></tr></tbody></table></div>"
      ],
      "text/plain": [
       "shape: (5, 20)\n",
       "┌────────────┬────────────┬────────┬────────────┬───┬───────────┬──────────┬───────────┬───────────┐\n",
       "│ SORT_INDEX ┆ TITLE      ┆ ID     ┆ FILING_DAT ┆ … ┆ LINKLABEL ┆ ALERT_YN ┆ COMPANY_T ┆ COMPANY_T │\n",
       "│ ---        ┆ ---        ┆ ---    ┆ E          ┆   ┆ ---       ┆ ---      ┆ ITLE      ┆ YPE       │\n",
       "│ i64        ┆ list[str]  ┆ i64    ┆ ---        ┆   ┆ null      ┆ bool     ┆ ---       ┆ ---       │\n",
       "│            ┆            ┆        ┆ str        ┆   ┆           ┆          ┆ str       ┆ str       │\n",
       "╞════════════╪════════════╪════════╪════════════╪═══╪═══════════╪══════════╪═══════════╪═══════════╡\n",
       "│ 0          ┆ [\"Accurate ┆ 171478 ┆ 09/24/2018 ┆ … ┆ null      ┆ false    ┆ Accurate  ┆ Limited   │\n",
       "│            ┆ INSPEX,    ┆        ┆            ┆   ┆           ┆          ┆ INSPEX,   ┆ Liability │\n",
       "│            ┆ LLC\",      ┆        ┆            ┆   ┆           ┆          ┆ LLC       ┆ Company - │\n",
       "│            ┆ \"Limi…     ┆        ┆            ┆   ┆           ┆          ┆           ┆ Bu…       │\n",
       "│ 0          ┆ [\"Accurate ┆ 171478 ┆ 09/24/2018 ┆ … ┆ null      ┆ false    ┆ Accurate  ┆ Limited   │\n",
       "│            ┆ INSPEX,    ┆        ┆            ┆   ┆           ┆          ┆ INSPEX,   ┆ Liability │\n",
       "│            ┆ LLC\",      ┆        ┆            ┆   ┆           ┆          ┆ LLC       ┆ Company - │\n",
       "│            ┆ \"Limi…     ┆        ┆            ┆   ┆           ┆          ┆           ┆ Bu…       │\n",
       "│ 0          ┆ [\"Accurate ┆ 171478 ┆ 09/24/2018 ┆ … ┆ null      ┆ false    ┆ Accurate  ┆ Limited   │\n",
       "│            ┆ INSPEX,    ┆        ┆            ┆   ┆           ┆          ┆ INSPEX,   ┆ Liability │\n",
       "│            ┆ LLC\",      ┆        ┆            ┆   ┆           ┆          ┆ LLC       ┆ Company - │\n",
       "│            ┆ \"Limi…     ┆        ┆            ┆   ┆           ┆          ┆           ┆ Bu…       │\n",
       "│ 0          ┆ [\"Accurate ┆ 171478 ┆ 09/24/2018 ┆ … ┆ null      ┆ false    ┆ Accurate  ┆ Limited   │\n",
       "│            ┆ INSPEX,    ┆        ┆            ┆   ┆           ┆          ┆ INSPEX,   ┆ Liability │\n",
       "│            ┆ LLC\",      ┆        ┆            ┆   ┆           ┆          ┆ LLC       ┆ Company - │\n",
       "│            ┆ \"Limi…     ┆        ┆            ┆   ┆           ┆          ┆           ┆ Bu…       │\n",
       "│ 0          ┆ [\"Accurate ┆ 171478 ┆ 09/24/2018 ┆ … ┆ null      ┆ false    ┆ Accurate  ┆ Limited   │\n",
       "│            ┆ INSPEX,    ┆        ┆            ┆   ┆           ┆          ┆ INSPEX,   ┆ Liability │\n",
       "│            ┆ LLC\",      ┆        ┆            ┆   ┆           ┆          ┆ LLC       ┆ Company - │\n",
       "│            ┆ \"Limi…     ┆        ┆            ┆   ┆           ┆          ┆           ┆ Bu…       │\n",
       "└────────────┴────────────┴────────┴────────────┴───┴───────────┴──────────┴───────────┴───────────┘"
      ]
     },
     "execution_count": 111,
     "metadata": {},
     "output_type": "execute_result"
    }
   ],
   "source": [
    "expanded.head()"
   ]
  },
  {
   "cell_type": "code",
   "execution_count": 112,
   "id": "d54bfd92",
   "metadata": {},
   "outputs": [],
   "source": [
    "businesses_expanded_details = expanded.pivot(\n",
    "    \"LABEL\",\n",
    "    values=\"VALUE\",\n",
    "    index=\"TITLE\"\n",
    ")"
   ]
  },
  {
   "cell_type": "code",
   "execution_count": 139,
   "id": "ebcb29c4",
   "metadata": {},
   "outputs": [
    {
     "data": {
      "text/html": [
       "<div><style>\n",
       ".dataframe > thead > tr,\n",
       ".dataframe > tbody > tr {\n",
       "  text-align: right;\n",
       "  white-space: pre-wrap;\n",
       "}\n",
       "</style>\n",
       "<small>shape: (5, 22)</small><table border=\"1\" class=\"dataframe\"><thead><tr><th>TITLE</th><th>Filing Type</th><th>Status</th><th>Standing - AR</th><th>Standing - RA</th><th>Standing - Other</th><th>Formed In</th><th>Term of Duration</th><th>Initial Filing Date</th><th>Principal Address</th><th>Mailing Address</th><th>AR Due Date</th><th>Commercial Registered Agent</th><th>Registered Agent</th><th>Owner Name</th><th>Owner Address</th><th>Nature of Business</th><th>Expiration Date</th><th>Owners</th><th></th><th>Delayed Effective Date</th><th>Filing Subtype</th></tr><tr><td>list[str]</td><td>str</td><td>str</td><td>str</td><td>str</td><td>str</td><td>str</td><td>str</td><td>str</td><td>str</td><td>str</td><td>str</td><td>str</td><td>str</td><td>str</td><td>str</td><td>str</td><td>str</td><td>str</td><td>str</td><td>str</td><td>str</td></tr></thead><tbody><tr><td>[&quot;Accurate INSPEX, LLC&quot;, &quot;Limited Liability Company - Business - Foreign&quot;]</td><td>&quot;Limited Liability Company - Bu…</td><td>&quot;Active&quot;</td><td>&quot;Good&quot;</td><td>&quot;Good&quot;</td><td>&quot;Good&quot;</td><td>&quot;INDIANA&quot;</td><td>&quot;Perpetual&quot;</td><td>&quot;09/24/2018&quot;</td><td>&quot;6000 FREEDOM SQUARE DRIVE\n",
       "SUIT…</td><td>&quot;6000 FREEDOM SQUARE DR\n",
       "STE 300…</td><td>&quot;11/17/2025&quot;</td><td>&quot;COGENCY GLOBAL INC.\n",
       "120 W SWEE…</td><td>null</td><td>null</td><td>null</td><td>null</td><td>null</td><td>null</td><td>null</td><td>null</td><td>null</td></tr><tr><td>[&quot;XCALIBER INTERNATIONAL LTD., L.L.C.&quot;, &quot;Limited Liability Company - Business - Foreign&quot;]</td><td>&quot;Limited Liability Company - Bu…</td><td>&quot;Active&quot;</td><td>&quot;Good&quot;</td><td>&quot;Good&quot;</td><td>&quot;Good&quot;</td><td>&quot;OKLAHOMA&quot;</td><td>&quot;Perpetual&quot;</td><td>&quot;02/01/2016&quot;</td><td>&quot;1 TOBACCO RD\n",
       "PRYOR, OK 74361-4…</td><td>&quot;4747 NE 1ST ST\n",
       "PRYOR, OK 74361…</td><td>&quot;11/17/2025&quot;</td><td>&quot;CORPORATION SERVICE COMPANY\n",
       "41…</td><td>null</td><td>null</td><td>null</td><td>null</td><td>null</td><td>null</td><td>null</td><td>null</td><td>null</td></tr><tr><td>[&quot;Xavier Collections LLC&quot;, &quot;Limited Liability Company - Business - Domestic&quot;]</td><td>&quot;Limited Liability Company - Bu…</td><td>&quot;Active&quot;</td><td>&quot;Good&quot;</td><td>&quot;Good&quot;</td><td>&quot;Good&quot;</td><td>&quot;NORTH DAKOTA&quot;</td><td>&quot;Perpetual&quot;</td><td>&quot;03/06/2024&quot;</td><td>&quot;835 34TH AVE E\n",
       "APT 201\n",
       "WEST FA…</td><td>&quot;PO BOX 10301\n",
       "FARGO, ND 58106-0…</td><td>&quot;11/17/2025&quot;</td><td>null</td><td>&quot;KORTO C KOLLIE\n",
       "835 34TH AVE E …</td><td>null</td><td>null</td><td>null</td><td>null</td><td>null</td><td>null</td><td>null</td><td>null</td></tr><tr><td>[&quot;Xavier Taylor Construction&quot;, &quot;Trade Name&quot;]</td><td>&quot;Trade Name&quot;</td><td>&quot;Active&quot;</td><td>null</td><td>null</td><td>null</td><td>null</td><td>&quot;Expires - 5 years&quot;</td><td>&quot;06/27/2023&quot;</td><td>&quot;4805 141 ST AVE NW\n",
       "WILLISTON, …</td><td>&quot;4805 141ST AVE NW\n",
       "WILLISTON, N…</td><td>null</td><td>null</td><td>null</td><td>&quot;Xavier G Taylor&quot;</td><td>&quot;4805 141ST AVE NW\n",
       "WILLISTON, N…</td><td>&quot;Various types of construction …</td><td>&quot;06/27/2028&quot;</td><td>null</td><td>null</td><td>null</td><td>null</td></tr><tr><td>[&quot;XAPIC STUDIOS&quot;, &quot;Trade Name&quot;]</td><td>&quot;Trade Name&quot;</td><td>&quot;Active&quot;</td><td>null</td><td>null</td><td>null</td><td>null</td><td>&quot;Expires - 5 years&quot;</td><td>&quot;10/14/2016&quot;</td><td>&quot;607 N 3RD ST # 1\n",
       "GRAND FORKS, …</td><td>&quot;607 N 3RD ST # 1\n",
       "GRAND FORKS, …</td><td>null</td><td>null</td><td>null</td><td>&quot;PATRICIA A ROGALLA&quot;</td><td>&quot;607 N 3RD ST # 1\n",
       "GRAND FORKS, …</td><td>&quot;I attend Vendor shows and offe…</td><td>&quot;10/14/2026&quot;</td><td>null</td><td>null</td><td>null</td><td>null</td></tr></tbody></table></div>"
      ],
      "text/plain": [
       "shape: (5, 22)\n",
       "┌───────────────┬───────────────┬────────┬───────────────┬───┬────────┬──────┬───────────┬─────────┐\n",
       "│ TITLE         ┆ Filing Type   ┆ Status ┆ Standing - AR ┆ … ┆ Owners ┆      ┆ Delayed   ┆ Filing  │\n",
       "│ ---           ┆ ---           ┆ ---    ┆ ---           ┆   ┆ ---    ┆ ---  ┆ Effective ┆ Subtype │\n",
       "│ list[str]     ┆ str           ┆ str    ┆ str           ┆   ┆ str    ┆ str  ┆ Date      ┆ ---     │\n",
       "│               ┆               ┆        ┆               ┆   ┆        ┆      ┆ ---       ┆ str     │\n",
       "│               ┆               ┆        ┆               ┆   ┆        ┆      ┆ str       ┆         │\n",
       "╞═══════════════╪═══════════════╪════════╪═══════════════╪═══╪════════╪══════╪═══════════╪═════════╡\n",
       "│ [\"Accurate    ┆ Limited       ┆ Active ┆ Good          ┆ … ┆ null   ┆ null ┆ null      ┆ null    │\n",
       "│ INSPEX, LLC\", ┆ Liability     ┆        ┆               ┆   ┆        ┆      ┆           ┆         │\n",
       "│ \"Limi…        ┆ Company - Bu… ┆        ┆               ┆   ┆        ┆      ┆           ┆         │\n",
       "│ [\"XCALIBER    ┆ Limited       ┆ Active ┆ Good          ┆ … ┆ null   ┆ null ┆ null      ┆ null    │\n",
       "│ INTERNATIONAL ┆ Liability     ┆        ┆               ┆   ┆        ┆      ┆           ┆         │\n",
       "│ LTD.,…        ┆ Company - Bu… ┆        ┆               ┆   ┆        ┆      ┆           ┆         │\n",
       "│ [\"Xavier      ┆ Limited       ┆ Active ┆ Good          ┆ … ┆ null   ┆ null ┆ null      ┆ null    │\n",
       "│ Collections   ┆ Liability     ┆        ┆               ┆   ┆        ┆      ┆           ┆         │\n",
       "│ LLC\", \"Li…    ┆ Company - Bu… ┆        ┆               ┆   ┆        ┆      ┆           ┆         │\n",
       "│ [\"Xavier      ┆ Trade Name    ┆ Active ┆ null          ┆ … ┆ null   ┆ null ┆ null      ┆ null    │\n",
       "│ Taylor Constr ┆               ┆        ┆               ┆   ┆        ┆      ┆           ┆         │\n",
       "│ uction\",…     ┆               ┆        ┆               ┆   ┆        ┆      ┆           ┆         │\n",
       "│ [\"XAPIC       ┆ Trade Name    ┆ Active ┆ null          ┆ … ┆ null   ┆ null ┆ null      ┆ null    │\n",
       "│ STUDIOS\",     ┆               ┆        ┆               ┆   ┆        ┆      ┆           ┆         │\n",
       "│ \"Trade Name\"… ┆               ┆        ┆               ┆   ┆        ┆      ┆           ┆         │\n",
       "└───────────────┴───────────────┴────────┴───────────────┴───┴────────┴──────┴───────────┴─────────┘"
      ]
     },
     "execution_count": 139,
     "metadata": {},
     "output_type": "execute_result"
    }
   ],
   "source": [
    "businesses_expanded_details.head()"
   ]
  },
  {
   "cell_type": "markdown",
   "id": "bf0821a9",
   "metadata": {},
   "source": [
    "Now we can finally look at how Owners is structured"
   ]
  },
  {
   "cell_type": "markdown",
   "id": "eeccd323",
   "metadata": {},
   "source": [
    "## "
   ]
  },
  {
   "cell_type": "code",
   "execution_count": 114,
   "id": "631bab7a",
   "metadata": {},
   "outputs": [
    {
     "data": {
      "text/html": [
       "<div><style>\n",
       ".dataframe > thead > tr,\n",
       ".dataframe > tbody > tr {\n",
       "  text-align: right;\n",
       "  white-space: pre-wrap;\n",
       "}\n",
       "</style>\n",
       "<small>shape: (5, 1)</small><table border=\"1\" class=\"dataframe\"><thead><tr><th>Owners</th></tr><tr><td>str</td></tr></thead><tbody><tr><td>null</td></tr><tr><td>null</td></tr><tr><td>null</td></tr><tr><td>null</td></tr><tr><td>null</td></tr></tbody></table></div>"
      ],
      "text/plain": [
       "shape: (5, 1)\n",
       "┌────────┐\n",
       "│ Owners │\n",
       "│ ---    │\n",
       "│ str    │\n",
       "╞════════╡\n",
       "│ null   │\n",
       "│ null   │\n",
       "│ null   │\n",
       "│ null   │\n",
       "│ null   │\n",
       "└────────┘"
      ]
     },
     "execution_count": 114,
     "metadata": {},
     "output_type": "execute_result"
    }
   ],
   "source": [
    "businesses_expanded_details.select(\n",
    "    pl.col(\"Owners\")\n",
    ").head()"
   ]
  },
  {
   "cell_type": "code",
   "execution_count": 115,
   "id": "ca90a8ba",
   "metadata": {},
   "outputs": [
    {
     "data": {
      "text/html": [
       "<div><style>\n",
       ".dataframe > thead > tr,\n",
       ".dataframe > tbody > tr {\n",
       "  text-align: right;\n",
       "  white-space: pre-wrap;\n",
       "}\n",
       "</style>\n",
       "<small>shape: (2, 22)</small><table border=\"1\" class=\"dataframe\"><thead><tr><th>TITLE</th><th>Filing Type</th><th>Status</th><th>Standing - AR</th><th>Standing - RA</th><th>Standing - Other</th><th>Formed In</th><th>Term of Duration</th><th>Initial Filing Date</th><th>Principal Address</th><th>Mailing Address</th><th>AR Due Date</th><th>Commercial Registered Agent</th><th>Registered Agent</th><th>Owner Name</th><th>Owner Address</th><th>Nature of Business</th><th>Expiration Date</th><th>Owners</th><th></th><th>Delayed Effective Date</th><th>Filing Subtype</th></tr><tr><td>list[str]</td><td>str</td><td>str</td><td>str</td><td>str</td><td>str</td><td>str</td><td>str</td><td>str</td><td>str</td><td>str</td><td>str</td><td>str</td><td>str</td><td>str</td><td>str</td><td>str</td><td>str</td><td>str</td><td>str</td><td>str</td><td>str</td></tr></thead><tbody><tr><td>[&quot;XTREME SIGNS &amp; GRAPHIX&quot;, &quot;Trade Name&quot;]</td><td>&quot;Trade Name&quot;</td><td>&quot;Active&quot;</td><td>null</td><td>null</td><td>null</td><td>null</td><td>&quot;Expires - 5 years&quot;</td><td>&quot;06/13/2006&quot;</td><td>&quot;401 6TH ST SE\n",
       "DEVILS LAKE, ND …</td><td>&quot;401 6TH ST SE\n",
       "DEVILS LAKE, ND …</td><td>null</td><td>null</td><td>null</td><td>null</td><td>null</td><td>&quot;SIGN DESIGN, FABRICATION OF SI…</td><td>&quot;06/13/2026&quot;</td><td>&quot;CRAIG NICHOLAS THOMAS\n",
       "8482 HIG…</td><td>&quot;AMANDA KAY THOMAS\n",
       "8482 HIGHWAY…</td><td>null</td><td>null</td></tr><tr><td>[&quot;XL Farms&quot;, &quot;Trade Name&quot;]</td><td>&quot;Trade Name&quot;</td><td>&quot;Active&quot;</td><td>null</td><td>null</td><td>null</td><td>null</td><td>&quot;Expires - 5 years&quot;</td><td>&quot;03/04/2020&quot;</td><td>&quot;14079 41ST ST NW\n",
       "ALEXANDER, ND…</td><td>&quot;14079 41ST ST NW\n",
       "ALEXANDER, ND…</td><td>null</td><td>null</td><td>null</td><td>null</td><td>null</td><td>&quot;Farm trucking&quot;</td><td>&quot;03/04/2030&quot;</td><td>&quot;Corey K Getzlaff\n",
       "14079 41ST ST…</td><td>&quot;Cindy J Getzlaff\n",
       "14079 41ST ST…</td><td>null</td><td>null</td></tr></tbody></table></div>"
      ],
      "text/plain": [
       "shape: (2, 22)\n",
       "┌────────────┬────────┬────────┬────────────┬───┬────────────┬────────────┬────────────┬───────────┐\n",
       "│ TITLE      ┆ Filing ┆ Status ┆ Standing - ┆ … ┆ Owners     ┆            ┆ Delayed    ┆ Filing    │\n",
       "│ ---        ┆ Type   ┆ ---    ┆ AR         ┆   ┆ ---        ┆ ---        ┆ Effective  ┆ Subtype   │\n",
       "│ list[str]  ┆ ---    ┆ str    ┆ ---        ┆   ┆ str        ┆ str        ┆ Date       ┆ ---       │\n",
       "│            ┆ str    ┆        ┆ str        ┆   ┆            ┆            ┆ ---        ┆ str       │\n",
       "│            ┆        ┆        ┆            ┆   ┆            ┆            ┆ str        ┆           │\n",
       "╞════════════╪════════╪════════╪════════════╪═══╪════════════╪════════════╪════════════╪═══════════╡\n",
       "│ [\"XTREME   ┆ Trade  ┆ Active ┆ null       ┆ … ┆ CRAIG      ┆ AMANDA KAY ┆ null       ┆ null      │\n",
       "│ SIGNS &    ┆ Name   ┆        ┆            ┆   ┆ NICHOLAS   ┆ THOMAS     ┆            ┆           │\n",
       "│ GRAPHIX\",  ┆        ┆        ┆            ┆   ┆ THOMAS     ┆ 8482       ┆            ┆           │\n",
       "│ \"Tr…       ┆        ┆        ┆            ┆   ┆ 8482 HIG…  ┆ HIGHWAY…   ┆            ┆           │\n",
       "│ [\"XL       ┆ Trade  ┆ Active ┆ null       ┆ … ┆ Corey K    ┆ Cindy J    ┆ null       ┆ null      │\n",
       "│ Farms\",    ┆ Name   ┆        ┆            ┆   ┆ Getzlaff   ┆ Getzlaff   ┆            ┆           │\n",
       "│ \"Trade     ┆        ┆        ┆            ┆   ┆ 14079 41ST ┆ 14079 41ST ┆            ┆           │\n",
       "│ Name\"]     ┆        ┆        ┆            ┆   ┆ ST…        ┆ ST…        ┆            ┆           │\n",
       "└────────────┴────────┴────────┴────────────┴───┴────────────┴────────────┴────────────┴───────────┘"
      ]
     },
     "execution_count": 115,
     "metadata": {},
     "output_type": "execute_result"
    }
   ],
   "source": [
    "businesses_expanded_details.filter(\n",
    "    pl.col(\"Owners\").is_not_null()\n",
    ")"
   ]
  },
  {
   "cell_type": "markdown",
   "id": "3383b8fb",
   "metadata": {},
   "source": [
    "In the drawer details array of dicts, dicts with \"Owners\" labels are typically followed by dicts with empty string labels, which by design, allows API data to return multiple owners.\n"
   ]
  },
  {
   "cell_type": "markdown",
   "id": "6f5a4932",
   "metadata": {},
   "source": [
    "## Check Company Title"
   ]
  },
  {
   "cell_type": "code",
   "execution_count": 119,
   "id": "8e3fd798",
   "metadata": {},
   "outputs": [
    {
     "data": {
      "text/html": [
       "<div><style>\n",
       ".dataframe > thead > tr,\n",
       ".dataframe > tbody > tr {\n",
       "  text-align: right;\n",
       "  white-space: pre-wrap;\n",
       "}\n",
       "</style>\n",
       "<small>shape: (216, 1)</small><table border=\"1\" class=\"dataframe\"><thead><tr><th>COMPANY_TITLE</th></tr><tr><td>str</td></tr></thead><tbody><tr><td>&quot;Accurate INSPEX, LLC&quot;</td></tr><tr><td>&quot;XCALIBER INTERNATIONAL LTD., L…</td></tr><tr><td>&quot;Xavier Collections LLC&quot;</td></tr><tr><td>&quot;Xavier Taylor Construction&quot;</td></tr><tr><td>&quot;XAPIC STUDIOS&quot;</td></tr><tr><td>&hellip;</td></tr><tr><td>&quot;CONDUENT HR SERVICES, LLC&quot;</td></tr><tr><td>&quot;AKITA EQUIPMENT CORP.&quot;</td></tr><tr><td>&quot;ATOS IT OUTSOURCING SERVICES, …</td></tr><tr><td>&quot;AKITA DRILLING USA CORP.&quot;</td></tr><tr><td>&quot;CONDUENT STATE HEALTHCARE, LLC&quot;</td></tr></tbody></table></div>"
      ],
      "text/plain": [
       "shape: (216, 1)\n",
       "┌─────────────────────────────────┐\n",
       "│ COMPANY_TITLE                   │\n",
       "│ ---                             │\n",
       "│ str                             │\n",
       "╞═════════════════════════════════╡\n",
       "│ Accurate INSPEX, LLC            │\n",
       "│ XCALIBER INTERNATIONAL LTD., L… │\n",
       "│ Xavier Collections LLC          │\n",
       "│ Xavier Taylor Construction      │\n",
       "│ XAPIC STUDIOS                   │\n",
       "│ …                               │\n",
       "│ CONDUENT HR SERVICES, LLC       │\n",
       "│ AKITA EQUIPMENT CORP.           │\n",
       "│ ATOS IT OUTSOURCING SERVICES, … │\n",
       "│ AKITA DRILLING USA CORP.        │\n",
       "│ CONDUENT STATE HEALTHCARE, LLC  │\n",
       "└─────────────────────────────────┘"
      ]
     },
     "execution_count": 119,
     "metadata": {},
     "output_type": "execute_result"
    }
   ],
   "source": [
    "df.select(\n",
    "    pl.col(\"COMPANY_TITLE\")\n",
    ")"
   ]
  },
  {
   "cell_type": "code",
   "execution_count": 120,
   "id": "4728bfe3",
   "metadata": {},
   "outputs": [
    {
     "data": {
      "text/html": [
       "<div><style>\n",
       ".dataframe > thead > tr,\n",
       ".dataframe > tbody > tr {\n",
       "  text-align: right;\n",
       "  white-space: pre-wrap;\n",
       "}\n",
       "</style>\n",
       "<small>shape: (216, 1)</small><table border=\"1\" class=\"dataframe\"><thead><tr><th>COMPANY_TITLE</th></tr><tr><td>str</td></tr></thead><tbody><tr><td>&quot;XCMG America Financial LLC&quot;</td></tr><tr><td>&quot;XCS Pros, LLC&quot;</td></tr><tr><td>&quot;CONDUENT BUSINESS SERVICES, LL…</td></tr><tr><td>&quot;Xquisite Construction LLC&quot;</td></tr><tr><td>&quot;XCELL DRIVING SCHOOL LLP&quot;</td></tr><tr><td>&hellip;</td></tr><tr><td>&quot;X-TREME OUTFITTERS&quot;</td></tr><tr><td>&quot;X-treme Detailing&quot;</td></tr><tr><td>&quot;XSM ATM Services LLC&quot;</td></tr><tr><td>&quot;XCEL ENERGY SERVICES INC.&quot;</td></tr><tr><td>&quot;XETA TECHNOLOGIES, INC.&quot;</td></tr></tbody></table></div>"
      ],
      "text/plain": [
       "shape: (216, 1)\n",
       "┌─────────────────────────────────┐\n",
       "│ COMPANY_TITLE                   │\n",
       "│ ---                             │\n",
       "│ str                             │\n",
       "╞═════════════════════════════════╡\n",
       "│ XCMG America Financial LLC      │\n",
       "│ XCS Pros, LLC                   │\n",
       "│ CONDUENT BUSINESS SERVICES, LL… │\n",
       "│ Xquisite Construction LLC       │\n",
       "│ XCELL DRIVING SCHOOL LLP        │\n",
       "│ …                               │\n",
       "│ X-TREME OUTFITTERS              │\n",
       "│ X-treme Detailing               │\n",
       "│ XSM ATM Services LLC            │\n",
       "│ XCEL ENERGY SERVICES INC.       │\n",
       "│ XETA TECHNOLOGIES, INC.         │\n",
       "└─────────────────────────────────┘"
      ]
     },
     "execution_count": 120,
     "metadata": {},
     "output_type": "execute_result"
    }
   ],
   "source": [
    "df.select(\n",
    "    pl.col(\"COMPANY_TITLE\")\n",
    ").unique()"
   ]
  },
  {
   "cell_type": "code",
   "execution_count": 138,
   "id": "af92e3cb",
   "metadata": {},
   "outputs": [
    {
     "data": {
      "text/html": [
       "<div><style>\n",
       ".dataframe > thead > tr,\n",
       ".dataframe > tbody > tr {\n",
       "  text-align: right;\n",
       "  white-space: pre-wrap;\n",
       "}\n",
       "</style>\n",
       "<small>shape: (2, 2)</small><table border=\"1\" class=\"dataframe\"><thead><tr><th>IS_ALL_UPPERCASE</th><th>len</th></tr><tr><td>bool</td><td>u32</td></tr></thead><tbody><tr><td>false</td><td>115</td></tr><tr><td>true</td><td>101</td></tr></tbody></table></div>"
      ],
      "text/plain": [
       "shape: (2, 2)\n",
       "┌──────────────────┬─────┐\n",
       "│ IS_ALL_UPPERCASE ┆ len │\n",
       "│ ---              ┆ --- │\n",
       "│ bool             ┆ u32 │\n",
       "╞══════════════════╪═════╡\n",
       "│ false            ┆ 115 │\n",
       "│ true             ┆ 101 │\n",
       "└──────────────────┴─────┘"
      ]
     },
     "execution_count": 138,
     "metadata": {},
     "output_type": "execute_result"
    }
   ],
   "source": [
    "df.select(\n",
    "    (pl.col(\"COMPANY_TITLE\").str.to_uppercase() == pl.col(\"COMPANY_TITLE\")).alias(\"IS_ALL_UPPERCASE\")\n",
    ").group_by(\"IS_ALL_UPPERCASE\").len()"
   ]
  },
  {
   "cell_type": "markdown",
   "id": "e8afb844",
   "metadata": {},
   "source": [
    "Half company titles are upper case, half are not."
   ]
  },
  {
   "cell_type": "markdown",
   "id": "f16495a8",
   "metadata": {},
   "source": [
    "## Check Relationships\n",
    "\n",
    "interested_labels = (\n",
    "            \"COMMERCIAL_REGISTERED_AGENT\",\n",
    "            \"REGISTERED_AGENT\",\n",
    "            \"OWNER_NAME\",\n",
    "            \"OWNERS\",\n",
    "        )"
   ]
  },
  {
   "cell_type": "code",
   "execution_count": 196,
   "id": "2d5f0415",
   "metadata": {},
   "outputs": [],
   "source": [
    "interested_labels = (\n",
    "    \"Commercial Registered Agent\",\n",
    "    \"Registered Agent\",\n",
    "    \"Owner Name\",\n",
    "    \"Owners\",\n",
    "    \"\"\n",
    ")"
   ]
  },
  {
   "cell_type": "code",
   "execution_count": 197,
   "id": "72ed6a8c",
   "metadata": {},
   "outputs": [],
   "source": [
    "# businesses_expanded_details.columns = column.upper for column businesses_expanded_details.columns"
   ]
  },
  {
   "cell_type": "code",
   "execution_count": 198,
   "id": "d39640fb",
   "metadata": {},
   "outputs": [],
   "source": [
    "businesses_graph_details = businesses_expanded_details.select(\n",
    "    interested_labels\n",
    ")"
   ]
  },
  {
   "cell_type": "code",
   "execution_count": 199,
   "id": "79022dca",
   "metadata": {},
   "outputs": [
    {
     "data": {
      "text/html": [
       "<div><style>\n",
       ".dataframe > thead > tr,\n",
       ".dataframe > tbody > tr {\n",
       "  text-align: right;\n",
       "  white-space: pre-wrap;\n",
       "}\n",
       "</style>\n",
       "<small>shape: (5, 5)</small><table border=\"1\" class=\"dataframe\"><thead><tr><th>Commercial Registered Agent</th><th>Registered Agent</th><th>Owner Name</th><th>Owners</th><th></th></tr><tr><td>str</td><td>str</td><td>str</td><td>str</td><td>str</td></tr></thead><tbody><tr><td>&quot;COGENCY GLOBAL INC.\n",
       "120 W SWEE…</td><td>null</td><td>null</td><td>null</td><td>null</td></tr><tr><td>&quot;CORPORATION SERVICE COMPANY\n",
       "41…</td><td>null</td><td>null</td><td>null</td><td>null</td></tr><tr><td>null</td><td>&quot;KORTO C KOLLIE\n",
       "835 34TH AVE E …</td><td>null</td><td>null</td><td>null</td></tr><tr><td>null</td><td>null</td><td>&quot;Xavier G Taylor&quot;</td><td>null</td><td>null</td></tr><tr><td>null</td><td>null</td><td>&quot;PATRICIA A ROGALLA&quot;</td><td>null</td><td>null</td></tr></tbody></table></div>"
      ],
      "text/plain": [
       "shape: (5, 5)\n",
       "┌─────────────────────────────┬──────────────────┬────────────────────┬────────┬──────┐\n",
       "│ Commercial Registered Agent ┆ Registered Agent ┆ Owner Name         ┆ Owners ┆      │\n",
       "│ ---                         ┆ ---              ┆ ---                ┆ ---    ┆ ---  │\n",
       "│ str                         ┆ str              ┆ str                ┆ str    ┆ str  │\n",
       "╞═════════════════════════════╪══════════════════╪════════════════════╪════════╪══════╡\n",
       "│ COGENCY GLOBAL INC.         ┆ null             ┆ null               ┆ null   ┆ null │\n",
       "│ 120 W SWEE…                 ┆                  ┆                    ┆        ┆      │\n",
       "│ CORPORATION SERVICE COMPANY ┆ null             ┆ null               ┆ null   ┆ null │\n",
       "│ 41…                         ┆                  ┆                    ┆        ┆      │\n",
       "│ null                        ┆ KORTO C KOLLIE   ┆ null               ┆ null   ┆ null │\n",
       "│                             ┆ 835 34TH AVE E … ┆                    ┆        ┆      │\n",
       "│ null                        ┆ null             ┆ Xavier G Taylor    ┆ null   ┆ null │\n",
       "│ null                        ┆ null             ┆ PATRICIA A ROGALLA ┆ null   ┆ null │\n",
       "└─────────────────────────────┴──────────────────┴────────────────────┴────────┴──────┘"
      ]
     },
     "execution_count": 199,
     "metadata": {},
     "output_type": "execute_result"
    }
   ],
   "source": [
    "businesses_graph_details.head()"
   ]
  },
  {
   "cell_type": "code",
   "execution_count": 203,
   "id": "a71658f6",
   "metadata": {},
   "outputs": [
    {
     "name": "stderr",
     "output_type": "stream",
     "text": [
      "C:\\Users\\harri\\AppData\\Local\\Temp\\ipykernel_11476\\1333292206.py:1: DeprecationWarning: `DataFrame.melt` is deprecated. Use `unpivot` instead, with `index` instead of `id_vars` and `on` instead of `value_vars`\n",
      "  stacked = businesses_graph_details.melt().select(\"value\")\n"
     ]
    }
   ],
   "source": [
    "stacked = businesses_graph_details.melt().select(\"value\")"
   ]
  },
  {
   "cell_type": "code",
   "execution_count": 201,
   "id": "a3fa33e4",
   "metadata": {},
   "outputs": [
    {
     "data": {
      "text/plain": [
       "216"
      ]
     },
     "execution_count": 201,
     "metadata": {},
     "output_type": "execute_result"
    }
   ],
   "source": [
    "len(businesses_graph_details)"
   ]
  },
  {
   "cell_type": "code",
   "execution_count": 205,
   "id": "1c4f8396",
   "metadata": {},
   "outputs": [],
   "source": [
    "assert len(businesses_graph_details) * 5 == len(stacked)"
   ]
  },
  {
   "cell_type": "code",
   "execution_count": 206,
   "id": "020f6368",
   "metadata": {},
   "outputs": [],
   "source": [
    "stacked = stacked.filter(\n",
    "    pl.col(\"value\").is_not_null()\n",
    ")"
   ]
  },
  {
   "cell_type": "code",
   "execution_count": 207,
   "id": "b5ccf0de",
   "metadata": {},
   "outputs": [
    {
     "data": {
      "text/html": [
       "<div><style>\n",
       ".dataframe > thead > tr,\n",
       ".dataframe > tbody > tr {\n",
       "  text-align: right;\n",
       "  white-space: pre-wrap;\n",
       "}\n",
       "</style>\n",
       "<small>shape: (5, 1)</small><table border=\"1\" class=\"dataframe\"><thead><tr><th>value</th></tr><tr><td>str</td></tr></thead><tbody><tr><td>&quot;COGENCY GLOBAL INC.\n",
       "120 W SWEE…</td></tr><tr><td>&quot;CORPORATION SERVICE COMPANY\n",
       "41…</td></tr><tr><td>&quot;CORPORATION SERVICE COMPANY\n",
       "41…</td></tr><tr><td>&quot;Registered Agents Inc\n",
       "3003 32N…</td></tr><tr><td>&quot;CORPORATION SERVICE COMPANY\n",
       "41…</td></tr></tbody></table></div>"
      ],
      "text/plain": [
       "shape: (5, 1)\n",
       "┌─────────────────────────────┐\n",
       "│ value                       │\n",
       "│ ---                         │\n",
       "│ str                         │\n",
       "╞═════════════════════════════╡\n",
       "│ COGENCY GLOBAL INC.         │\n",
       "│ 120 W SWEE…                 │\n",
       "│ CORPORATION SERVICE COMPANY │\n",
       "│ 41…                         │\n",
       "│ CORPORATION SERVICE COMPANY │\n",
       "│ 41…                         │\n",
       "│ Registered Agents Inc       │\n",
       "│ 3003 32N…                   │\n",
       "│ CORPORATION SERVICE COMPANY │\n",
       "│ 41…                         │\n",
       "└─────────────────────────────┘"
      ]
     },
     "execution_count": 207,
     "metadata": {},
     "output_type": "execute_result"
    }
   ],
   "source": [
    "stacked.head()"
   ]
  },
  {
   "cell_type": "markdown",
   "id": "3ec0745c",
   "metadata": {},
   "source": [
    "I don't want to analysis the columns individually for now, I just want to get the overall vibe of their format. If \\n exist all the time or not."
   ]
  },
  {
   "cell_type": "code",
   "execution_count": 208,
   "id": "9ec1eaea",
   "metadata": {},
   "outputs": [
    {
     "data": {
      "text/html": [
       "<div><style>\n",
       ".dataframe > thead > tr,\n",
       ".dataframe > tbody > tr {\n",
       "  text-align: right;\n",
       "  white-space: pre-wrap;\n",
       "}\n",
       "</style>\n",
       "<small>shape: (2, 2)</small><table border=\"1\" class=\"dataframe\"><thead><tr><th>has_n</th><th>len</th></tr><tr><td>bool</td><td>u32</td></tr></thead><tbody><tr><td>true</td><td>177</td></tr><tr><td>false</td><td>41</td></tr></tbody></table></div>"
      ],
      "text/plain": [
       "shape: (2, 2)\n",
       "┌───────┬─────┐\n",
       "│ has_n ┆ len │\n",
       "│ ---   ┆ --- │\n",
       "│ bool  ┆ u32 │\n",
       "╞═══════╪═════╡\n",
       "│ true  ┆ 177 │\n",
       "│ false ┆ 41  │\n",
       "└───────┴─────┘"
      ]
     },
     "execution_count": 208,
     "metadata": {},
     "output_type": "execute_result"
    }
   ],
   "source": [
    "stacked.select(\n",
    "    pl.col(\"value\").str.contains(\"\\n\").alias(\"has_n\")\n",
    ").group_by(\"has_n\").len()"
   ]
  },
  {
   "cell_type": "code",
   "execution_count": 209,
   "id": "6bd3e626",
   "metadata": {},
   "outputs": [],
   "source": [
    "arr = stacked.filter(\n",
    "    ~pl.col(\"value\").str.contains(\"\\n\").alias(\"has_n\")\n",
    ").to_numpy().tolist()"
   ]
  },
  {
   "cell_type": "code",
   "execution_count": 210,
   "id": "cd9bcf74",
   "metadata": {},
   "outputs": [
    {
     "data": {
      "text/plain": [
       "[['Xiomara A. Uribe, Ecaterina M. Quintana'],\n",
       " ['Scott A Kraft'],\n",
       " ['Travis c Toepke'],\n",
       " ['LIFE LINE TECHNOLOGIES, LLC'],\n",
       " ['KARLGAARD ENTERPRISES, LLC'],\n",
       " ['Dustin R Smith'],\n",
       " ['Christopher Tegwe'],\n",
       " ['MONEYDART GLOBAL SERVICES INC.'],\n",
       " ['XPT Partners, LLC'],\n",
       " ['JEROME M HINDS']]"
      ]
     },
     "execution_count": 210,
     "metadata": {},
     "output_type": "execute_result"
    }
   ],
   "source": [
    "arr[10:20]"
   ]
  },
  {
   "cell_type": "markdown",
   "id": "65351ea4",
   "metadata": {},
   "source": [
    "Xiomara A. Uribe, Ecaterina M. Quintana. If you search their name up in data lake output/company_records.jsonl, it's very interesting. Their data is stored under OWNER_NAME when there's actually two owner names."
   ]
  },
  {
   "cell_type": "markdown",
   "id": "97a2f5fe",
   "metadata": {},
   "source": [
    "### Deeper Dive into Relationships"
   ]
  },
  {
   "cell_type": "code",
   "execution_count": 211,
   "id": "1ca0a779",
   "metadata": {},
   "outputs": [],
   "source": [
    "def slash_n_counts(df : pl.DataFrame, column):\n",
    "    return df.select(\n",
    "        pl.col(column).str.contains(\"\\n\").alias(f\"has_n_{column}\")\n",
    "    ).group_by(f\"has_n_{column}\").len()\n",
    "\n",
    "def filter_nulls(df : pl.DataFrame, column):\n",
    "    return df.filter(\n",
    "        pl.col(column).is_not_null()\n",
    "    ).select(column)"
   ]
  },
  {
   "cell_type": "code",
   "execution_count": 212,
   "id": "962663aa",
   "metadata": {},
   "outputs": [
    {
     "data": {
      "text/html": [
       "<div><style>\n",
       ".dataframe > thead > tr,\n",
       ".dataframe > tbody > tr {\n",
       "  text-align: right;\n",
       "  white-space: pre-wrap;\n",
       "}\n",
       "</style>\n",
       "<small>shape: (5, 5)</small><table border=\"1\" class=\"dataframe\"><thead><tr><th>Commercial Registered Agent</th><th>Registered Agent</th><th>Owner Name</th><th>Owners</th><th></th></tr><tr><td>str</td><td>str</td><td>str</td><td>str</td><td>str</td></tr></thead><tbody><tr><td>&quot;COGENCY GLOBAL INC.\n",
       "120 W SWEE…</td><td>null</td><td>null</td><td>null</td><td>null</td></tr><tr><td>&quot;CORPORATION SERVICE COMPANY\n",
       "41…</td><td>null</td><td>null</td><td>null</td><td>null</td></tr><tr><td>null</td><td>&quot;KORTO C KOLLIE\n",
       "835 34TH AVE E …</td><td>null</td><td>null</td><td>null</td></tr><tr><td>null</td><td>null</td><td>&quot;Xavier G Taylor&quot;</td><td>null</td><td>null</td></tr><tr><td>null</td><td>null</td><td>&quot;PATRICIA A ROGALLA&quot;</td><td>null</td><td>null</td></tr></tbody></table></div>"
      ],
      "text/plain": [
       "shape: (5, 5)\n",
       "┌─────────────────────────────┬──────────────────┬────────────────────┬────────┬──────┐\n",
       "│ Commercial Registered Agent ┆ Registered Agent ┆ Owner Name         ┆ Owners ┆      │\n",
       "│ ---                         ┆ ---              ┆ ---                ┆ ---    ┆ ---  │\n",
       "│ str                         ┆ str              ┆ str                ┆ str    ┆ str  │\n",
       "╞═════════════════════════════╪══════════════════╪════════════════════╪════════╪══════╡\n",
       "│ COGENCY GLOBAL INC.         ┆ null             ┆ null               ┆ null   ┆ null │\n",
       "│ 120 W SWEE…                 ┆                  ┆                    ┆        ┆      │\n",
       "│ CORPORATION SERVICE COMPANY ┆ null             ┆ null               ┆ null   ┆ null │\n",
       "│ 41…                         ┆                  ┆                    ┆        ┆      │\n",
       "│ null                        ┆ KORTO C KOLLIE   ┆ null               ┆ null   ┆ null │\n",
       "│                             ┆ 835 34TH AVE E … ┆                    ┆        ┆      │\n",
       "│ null                        ┆ null             ┆ Xavier G Taylor    ┆ null   ┆ null │\n",
       "│ null                        ┆ null             ┆ PATRICIA A ROGALLA ┆ null   ┆ null │\n",
       "└─────────────────────────────┴──────────────────┴────────────────────┴────────┴──────┘"
      ]
     },
     "execution_count": 212,
     "metadata": {},
     "output_type": "execute_result"
    }
   ],
   "source": [
    "businesses_graph_details.head()"
   ]
  },
  {
   "cell_type": "code",
   "execution_count": 213,
   "id": "2b9f3182",
   "metadata": {},
   "outputs": [
    {
     "data": {
      "text/plain": [
       "['Commercial Registered Agent', 'Registered Agent', 'Owner Name', 'Owners', '']"
      ]
     },
     "execution_count": 213,
     "metadata": {},
     "output_type": "execute_result"
    }
   ],
   "source": [
    "businesses_graph_details.columns"
   ]
  },
  {
   "cell_type": "markdown",
   "id": "8fb4e34f",
   "metadata": {},
   "source": [
    "### Commercial Registered Agents"
   ]
  },
  {
   "cell_type": "code",
   "execution_count": 214,
   "id": "fb483172",
   "metadata": {},
   "outputs": [
    {
     "data": {
      "text/html": [
       "<div><style>\n",
       ".dataframe > thead > tr,\n",
       ".dataframe > tbody > tr {\n",
       "  text-align: right;\n",
       "  white-space: pre-wrap;\n",
       "}\n",
       "</style>\n",
       "<small>shape: (1, 2)</small><table border=\"1\" class=\"dataframe\"><thead><tr><th>has_n_Commercial Registered Agent</th><th>len</th></tr><tr><td>bool</td><td>u32</td></tr></thead><tbody><tr><td>true</td><td>103</td></tr></tbody></table></div>"
      ],
      "text/plain": [
       "shape: (1, 2)\n",
       "┌─────────────────────────────────┬─────┐\n",
       "│ has_n_Commercial Registered Ag… ┆ len │\n",
       "│ ---                             ┆ --- │\n",
       "│ bool                            ┆ u32 │\n",
       "╞═════════════════════════════════╪═════╡\n",
       "│ true                            ┆ 103 │\n",
       "└─────────────────────────────────┴─────┘"
      ]
     },
     "execution_count": 214,
     "metadata": {},
     "output_type": "execute_result"
    }
   ],
   "source": [
    "cra = filter_nulls(businesses_graph_details, \"Commercial Registered Agent\")\n",
    "slash_n_counts(cra, \"Commercial Registered Agent\")"
   ]
  },
  {
   "cell_type": "code",
   "execution_count": 215,
   "id": "c083a021",
   "metadata": {},
   "outputs": [
    {
     "data": {
      "text/plain": [
       "[['Montgomery & Pender, P.C.\\n5630 34TH AVE S\\nSTE 120\\nFARGO, ND  58104'],\n",
       " ['LEGALINC CORPORATE SERVICES INC.\\n2905 JUDE LN NW\\nMANDAN, ND  58554'],\n",
       " ['C T CORPORATION SYSTEM\\n120 W SWEET AVE\\nBISMARCK, ND  58504'],\n",
       " ['REGISTERED AGENT SOLUTIONS, INC.\\n1709 N 19TH ST STE 3\\nBISMARCK, ND  58501-2121'],\n",
       " ['CORPORATION SERVICE COMPANY\\n418 N 2ND ST\\nBISMARCK, ND  58501'],\n",
       " ['C T CORPORATION SYSTEM\\n120 W SWEET AVE\\nBISMARCK, ND  58504'],\n",
       " ['CORPORATION SERVICE COMPANY\\n418 N 2ND ST\\nBISMARCK, ND  58501'],\n",
       " ['CORPORATION SERVICE COMPANY\\n418 N 2ND ST\\nBISMARCK, ND  58501'],\n",
       " ['CORPORATION SERVICE COMPANY\\n418 N 2ND ST\\nBISMARCK, ND  58501'],\n",
       " ['NORTHWEST REGISTERED AGENT SERVICE, INC.\\n3003 32ND AVE S STE 240\\nFARGO, ND  58103-6118']]"
      ]
     },
     "execution_count": 215,
     "metadata": {},
     "output_type": "execute_result"
    }
   ],
   "source": [
    "cra.to_numpy().tolist()[30:40]"
   ]
  },
  {
   "cell_type": "markdown",
   "id": "f4861979",
   "metadata": {},
   "source": [
    "### Registered Agents"
   ]
  },
  {
   "cell_type": "code",
   "execution_count": null,
   "id": "63a1f958",
   "metadata": {},
   "outputs": [
    {
     "data": {
      "text/html": [
       "<div><style>\n",
       ".dataframe > thead > tr,\n",
       ".dataframe > tbody > tr {\n",
       "  text-align: right;\n",
       "  white-space: pre-wrap;\n",
       "}\n",
       "</style>\n",
       "<small>shape: (1, 2)</small><table border=\"1\" class=\"dataframe\"><thead><tr><th>has_n_Registered Agent</th><th>len</th></tr><tr><td>bool</td><td>u32</td></tr></thead><tbody><tr><td>true</td><td>70</td></tr></tbody></table></div>"
      ],
      "text/plain": [
       "shape: (1, 2)\n",
       "┌────────────────────────┬─────┐\n",
       "│ has_n_Registered Agent ┆ len │\n",
       "│ ---                    ┆ --- │\n",
       "│ bool                   ┆ u32 │\n",
       "╞════════════════════════╪═════╡\n",
       "│ true                   ┆ 70  │\n",
       "└────────────────────────┴─────┘"
      ]
     },
     "metadata": {},
     "output_type": "display_data"
    }
   ],
   "source": [
    "cra = filter_nulls(businesses_graph_details, \"Registered Agent\")\n",
    "slash_n_counts(cra, \"Registered Agent\")"
   ]
  },
  {
   "cell_type": "code",
   "execution_count": null,
   "id": "e53a0fb4",
   "metadata": {},
   "outputs": [
    {
     "data": {
      "text/plain": [
       "[['TAIT  SILTALA\\n722 9TH AVE W\\nWILLISTON, ND  58801'],\n",
       " ['CHRISTOPHER  PERLEBERG\\n710 17TH ST NW\\nJAMESTOWN, ND  58401-2241'],\n",
       " ['ANTHONY  BAUMGARTNER\\n1292 56TH ST SE\\nBRADDOCK, ND  58524-9244'],\n",
       " ['GREGORY C KRUTSINGER\\n650 2ND AVE NW\\nWEST FARGO, ND  58078'],\n",
       " ['TAIT  SILTALA\\n722 9TH AVE W\\nWILLISTON, ND  58801'],\n",
       " ['MIAN  HUSSAIN\\n3017 31ST AVE W\\nAPT 305B\\nWILLISTON, ND  58801'],\n",
       " ['ERIC  CHRISTIANS\\n3749 14TH ST W\\nWEST FARGO, ND  58078'],\n",
       " ['DANNY  KRAFT\\n325 7TH ST S\\nSTE 100\\nFARGO, ND  58103'],\n",
       " ['KENDALL  VETTER\\n2341 BAYVIEW COURT SE\\nMANDAN, ND  58554'],\n",
       " ['JARED  MILLER\\n701 SUNFLOWER DR\\nBISMARCK, ND  58503']]"
      ]
     },
     "metadata": {},
     "output_type": "display_data"
    }
   ],
   "source": [
    "cra.to_numpy().tolist()[60:70]"
   ]
  },
  {
   "cell_type": "markdown",
   "id": "d69fe8c2",
   "metadata": {},
   "source": [
    "### Owner Name"
   ]
  },
  {
   "cell_type": "code",
   "execution_count": 240,
   "id": "d8ed448e",
   "metadata": {},
   "outputs": [
    {
     "data": {
      "text/html": [
       "<div><style>\n",
       ".dataframe > thead > tr,\n",
       ".dataframe > tbody > tr {\n",
       "  text-align: right;\n",
       "  white-space: pre-wrap;\n",
       "}\n",
       "</style>\n",
       "<small>shape: (1, 2)</small><table border=\"1\" class=\"dataframe\"><thead><tr><th>has_n_Owner Name</th><th>len</th></tr><tr><td>bool</td><td>u32</td></tr></thead><tbody><tr><td>false</td><td>41</td></tr></tbody></table></div>"
      ],
      "text/plain": [
       "shape: (1, 2)\n",
       "┌──────────────────┬─────┐\n",
       "│ has_n_Owner Name ┆ len │\n",
       "│ ---              ┆ --- │\n",
       "│ bool             ┆ u32 │\n",
       "╞══════════════════╪═════╡\n",
       "│ false            ┆ 41  │\n",
       "└──────────────────┴─────┘"
      ]
     },
     "execution_count": 240,
     "metadata": {},
     "output_type": "execute_result"
    }
   ],
   "source": [
    "cra = filter_nulls(businesses_graph_details, \"Owner Name\")\n",
    "slash_n_counts(cra, \"Owner Name\")"
   ]
  },
  {
   "cell_type": "code",
   "execution_count": 245,
   "id": "511470ea",
   "metadata": {},
   "outputs": [
    {
     "data": {
      "text/plain": [
       "[['Xiomara A. Uribe, Ecaterina M. Quintana'],\n",
       " ['Scott A Kraft'],\n",
       " ['Travis c Toepke'],\n",
       " ['LIFE LINE TECHNOLOGIES, LLC'],\n",
       " ['KARLGAARD ENTERPRISES, LLC'],\n",
       " ['Dustin R Smith'],\n",
       " ['Christopher Tegwe'],\n",
       " ['MONEYDART GLOBAL SERVICES INC.'],\n",
       " ['XPT Partners, LLC'],\n",
       " ['JEROME M HINDS']]"
      ]
     },
     "execution_count": 245,
     "metadata": {},
     "output_type": "execute_result"
    }
   ],
   "source": [
    "cra.to_numpy().tolist()[10:20]"
   ]
  },
  {
   "cell_type": "markdown",
   "id": "7a82d75d",
   "metadata": {},
   "source": [
    "### Owners"
   ]
  },
  {
   "cell_type": "code",
   "execution_count": 220,
   "id": "d6b233b4",
   "metadata": {},
   "outputs": [
    {
     "data": {
      "text/html": [
       "<div><style>\n",
       ".dataframe > thead > tr,\n",
       ".dataframe > tbody > tr {\n",
       "  text-align: right;\n",
       "  white-space: pre-wrap;\n",
       "}\n",
       "</style>\n",
       "<small>shape: (1, 2)</small><table border=\"1\" class=\"dataframe\"><thead><tr><th>has_n_Owners</th><th>len</th></tr><tr><td>bool</td><td>u32</td></tr></thead><tbody><tr><td>true</td><td>2</td></tr></tbody></table></div>"
      ],
      "text/plain": [
       "shape: (1, 2)\n",
       "┌──────────────┬─────┐\n",
       "│ has_n_Owners ┆ len │\n",
       "│ ---          ┆ --- │\n",
       "│ bool         ┆ u32 │\n",
       "╞══════════════╪═════╡\n",
       "│ true         ┆ 2   │\n",
       "└──────────────┴─────┘"
      ]
     },
     "execution_count": 220,
     "metadata": {},
     "output_type": "execute_result"
    }
   ],
   "source": [
    "cra = filter_nulls(businesses_graph_details, \"Owners\")\n",
    "slash_n_counts(cra, \"Owners\")"
   ]
  },
  {
   "cell_type": "code",
   "execution_count": 222,
   "id": "831b1f85",
   "metadata": {},
   "outputs": [
    {
     "data": {
      "text/plain": [
       "[['CRAIG NICHOLAS THOMAS\\n8482 HIGHWAY 2\\nDEVILS LAKE, ND 58301-8742'],\n",
       " ['Corey K Getzlaff\\n14079 41ST ST NW\\nALEXANDER, ND 58831-8719']]"
      ]
     },
     "execution_count": 222,
     "metadata": {},
     "output_type": "execute_result"
    }
   ],
   "source": [
    "cra.to_numpy().tolist()"
   ]
  },
  {
   "cell_type": "markdown",
   "id": "aec3db17",
   "metadata": {},
   "source": [
    "### Owner"
   ]
  },
  {
   "cell_type": "code",
   "execution_count": 224,
   "id": "65300df4",
   "metadata": {},
   "outputs": [
    {
     "data": {
      "text/html": [
       "<div><style>\n",
       ".dataframe > thead > tr,\n",
       ".dataframe > tbody > tr {\n",
       "  text-align: right;\n",
       "  white-space: pre-wrap;\n",
       "}\n",
       "</style>\n",
       "<small>shape: (1, 2)</small><table border=\"1\" class=\"dataframe\"><thead><tr><th>has_n_</th><th>len</th></tr><tr><td>bool</td><td>u32</td></tr></thead><tbody><tr><td>true</td><td>2</td></tr></tbody></table></div>"
      ],
      "text/plain": [
       "shape: (1, 2)\n",
       "┌────────┬─────┐\n",
       "│ has_n_ ┆ len │\n",
       "│ ---    ┆ --- │\n",
       "│ bool   ┆ u32 │\n",
       "╞════════╪═════╡\n",
       "│ true   ┆ 2   │\n",
       "└────────┴─────┘"
      ]
     },
     "execution_count": 224,
     "metadata": {},
     "output_type": "execute_result"
    }
   ],
   "source": [
    "cra = filter_nulls(businesses_graph_details, \"\")\n",
    "slash_n_counts(cra, \"\")"
   ]
  },
  {
   "cell_type": "code",
   "execution_count": 226,
   "id": "dece6bef",
   "metadata": {},
   "outputs": [
    {
     "data": {
      "text/plain": [
       "[['AMANDA KAY THOMAS\\n8482 HIGHWAY 2\\nDEVILS LAKE, ND 58301-8742'],\n",
       " ['Cindy J Getzlaff\\n14079 41ST ST NW\\nALEXANDER, ND 58831-8719']]"
      ]
     },
     "execution_count": 226,
     "metadata": {},
     "output_type": "execute_result"
    }
   ],
   "source": [
    "cra.to_numpy().tolist()"
   ]
  },
  {
   "cell_type": "markdown",
   "id": "7252d86b",
   "metadata": {},
   "source": [
    "So far, Xiomara A. Uribe, Ecaterina M. Quintana appears to be the only data quality issue. "
   ]
  },
  {
   "cell_type": "code",
   "execution_count": 228,
   "id": "20dfdaf5",
   "metadata": {},
   "outputs": [
    {
     "data": {
      "text/html": [
       "<div><style>\n",
       ".dataframe > thead > tr,\n",
       ".dataframe > tbody > tr {\n",
       "  text-align: right;\n",
       "  white-space: pre-wrap;\n",
       "}\n",
       "</style>\n",
       "<small>shape: (1, 1)</small><table border=\"1\" class=\"dataframe\"><thead><tr><th>value</th></tr><tr><td>str</td></tr></thead><tbody><tr><td>&quot;Xiomara A. Uribe, Ecaterina M.…</td></tr></tbody></table></div>"
      ],
      "text/plain": [
       "shape: (1, 1)\n",
       "┌─────────────────────────────────┐\n",
       "│ value                           │\n",
       "│ ---                             │\n",
       "│ str                             │\n",
       "╞═════════════════════════════════╡\n",
       "│ Xiomara A. Uribe, Ecaterina M.… │\n",
       "└─────────────────────────────────┘"
      ]
     },
     "execution_count": 228,
     "metadata": {},
     "output_type": "execute_result"
    }
   ],
   "source": [
    "stacked.filter(\n",
    "    pl.col(\"value\") == \"Xiomara A. Uribe, Ecaterina M. Quintana\"\n",
    ")"
   ]
  },
  {
   "cell_type": "code",
   "execution_count": 230,
   "id": "e8be449b",
   "metadata": {},
   "outputs": [
    {
     "data": {
      "text/html": [
       "<div><style>\n",
       ".dataframe > thead > tr,\n",
       ".dataframe > tbody > tr {\n",
       "  text-align: right;\n",
       "  white-space: pre-wrap;\n",
       "}\n",
       "</style>\n",
       "<small>shape: (0, 16)</small><table border=\"1\" class=\"dataframe\"><thead><tr><th>SORT_INDEX</th><th>TITLE</th><th>ID</th><th>FILING_DATE</th><th>RECORD_NUM</th><th>STATUS</th><th>STANDING</th><th>ALERT</th><th>CAN_REINSTATE</th><th>CAN_FILE_AR</th><th>CAN_ALWAYS_FILE_AR</th><th>CAN_FILE_REINSTATEMENT</th><th>ID_key</th><th>DRAWER_DETAIL_LIST</th><th>COMPANY_TITLE</th><th>COMPANY_TYPE</th></tr><tr><td>i64</td><td>list[str]</td><td>i64</td><td>str</td><td>str</td><td>str</td><td>str</td><td>bool</td><td>bool</td><td>bool</td><td>bool</td><td>bool</td><td>str</td><td>list[struct[5]]</td><td>str</td><td>str</td></tr></thead><tbody></tbody></table></div>"
      ],
      "text/plain": [
       "shape: (0, 16)\n",
       "┌────────────┬───────────┬─────┬─────────────┬───┬────────┬─────────────┬─────────────┬────────────┐\n",
       "│ SORT_INDEX ┆ TITLE     ┆ ID  ┆ FILING_DATE ┆ … ┆ ID_key ┆ DRAWER_DETA ┆ COMPANY_TIT ┆ COMPANY_TY │\n",
       "│ ---        ┆ ---       ┆ --- ┆ ---         ┆   ┆ ---    ┆ IL_LIST     ┆ LE          ┆ PE         │\n",
       "│ i64        ┆ list[str] ┆ i64 ┆ str         ┆   ┆ str    ┆ ---         ┆ ---         ┆ ---        │\n",
       "│            ┆           ┆     ┆             ┆   ┆        ┆ list[struct ┆ str         ┆ str        │\n",
       "│            ┆           ┆     ┆             ┆   ┆        ┆ [5]]        ┆             ┆            │\n",
       "╞════════════╪═══════════╪═════╪═════════════╪═══╪════════╪═════════════╪═════════════╪════════════╡\n",
       "└────────────┴───────────┴─────┴─────────────┴───┴────────┴─────────────┴─────────────┴────────────┘"
      ]
     },
     "execution_count": 230,
     "metadata": {},
     "output_type": "execute_result"
    }
   ],
   "source": [
    "df.filter(\n",
    "    pl.col(\"COMPANY_TITLE\").str.to_lowercase() == \"Xiomara A. Uribe, Ecaterina M. Quintana\"\n",
    ")"
   ]
  },
  {
   "cell_type": "markdown",
   "id": "ae8cdf70",
   "metadata": {},
   "source": [
    "Probably shouldn't take action until further questions. People can have identify themselves with two names after all."
   ]
  },
  {
   "cell_type": "code",
   "execution_count": 233,
   "id": "2bf64cdd",
   "metadata": {},
   "outputs": [
    {
     "data": {
      "text/html": [
       "<div><style>\n",
       ".dataframe > thead > tr,\n",
       ".dataframe > tbody > tr {\n",
       "  text-align: right;\n",
       "  white-space: pre-wrap;\n",
       "}\n",
       "</style>\n",
       "<small>shape: (1, 22)</small><table border=\"1\" class=\"dataframe\"><thead><tr><th>TITLE</th><th>Filing Type</th><th>Status</th><th>Standing - AR</th><th>Standing - RA</th><th>Standing - Other</th><th>Formed In</th><th>Term of Duration</th><th>Initial Filing Date</th><th>Principal Address</th><th>Mailing Address</th><th>AR Due Date</th><th>Commercial Registered Agent</th><th>Registered Agent</th><th>Owner Name</th><th>Owner Address</th><th>Nature of Business</th><th>Expiration Date</th><th>Owners</th><th></th><th>Delayed Effective Date</th><th>Filing Subtype</th></tr><tr><td>list[str]</td><td>str</td><td>str</td><td>str</td><td>str</td><td>str</td><td>str</td><td>str</td><td>str</td><td>str</td><td>str</td><td>str</td><td>str</td><td>str</td><td>str</td><td>str</td><td>str</td><td>str</td><td>str</td><td>str</td><td>str</td><td>str</td></tr></thead><tbody><tr><td>[&quot;Xtravagant Elegance&quot;, &quot;Trade Name&quot;]</td><td>&quot;Trade Name&quot;</td><td>&quot;Active&quot;</td><td>null</td><td>null</td><td>null</td><td>null</td><td>&quot;Expires - 5 years&quot;</td><td>&quot;04/05/2022&quot;</td><td>&quot;1002 EAST LASALLE DR.\n",
       "BISMARCK…</td><td>&quot;1002 E LASALLE DR\n",
       "BISMARCK, ND…</td><td>null</td><td>null</td><td>null</td><td>&quot;Xiomara A. Uribe, Ecaterina M.…</td><td>&quot;1002 E LASALLE DR\n",
       "BISMARCK, ND…</td><td>&quot;luxury balloon decor for all e…</td><td>&quot;04/05/2027&quot;</td><td>null</td><td>null</td><td>null</td><td>null</td></tr></tbody></table></div>"
      ],
      "text/plain": [
       "shape: (1, 22)\n",
       "┌────────────────┬─────────────┬────────┬────────────────┬───┬────────┬──────┬───────────┬─────────┐\n",
       "│ TITLE          ┆ Filing Type ┆ Status ┆ Standing - AR  ┆ … ┆ Owners ┆      ┆ Delayed   ┆ Filing  │\n",
       "│ ---            ┆ ---         ┆ ---    ┆ ---            ┆   ┆ ---    ┆ ---  ┆ Effective ┆ Subtype │\n",
       "│ list[str]      ┆ str         ┆ str    ┆ str            ┆   ┆ str    ┆ str  ┆ Date      ┆ ---     │\n",
       "│                ┆             ┆        ┆                ┆   ┆        ┆      ┆ ---       ┆ str     │\n",
       "│                ┆             ┆        ┆                ┆   ┆        ┆      ┆ str       ┆         │\n",
       "╞════════════════╪═════════════╪════════╪════════════════╪═══╪════════╪══════╪═══════════╪═════════╡\n",
       "│ [\"Xtravagant   ┆ Trade Name  ┆ Active ┆ null           ┆ … ┆ null   ┆ null ┆ null      ┆ null    │\n",
       "│ Elegance\",     ┆             ┆        ┆                ┆   ┆        ┆      ┆           ┆         │\n",
       "│ \"Trade…        ┆             ┆        ┆                ┆   ┆        ┆      ┆           ┆         │\n",
       "└────────────────┴─────────────┴────────┴────────────────┴───┴────────┴──────┴───────────┴─────────┘"
      ]
     },
     "execution_count": 233,
     "metadata": {},
     "output_type": "execute_result"
    }
   ],
   "source": [
    "businesses_expanded_details.filter(\n",
    "    pl.col(\"Owner Name\") == \"Xiomara A. Uribe, Ecaterina M. Quintana\"\n",
    ")"
   ]
  },
  {
   "cell_type": "code",
   "execution_count": 234,
   "id": "d0213e37",
   "metadata": {},
   "outputs": [
    {
     "data": {
      "text/html": [
       "<div><style>\n",
       ".dataframe > thead > tr,\n",
       ".dataframe > tbody > tr {\n",
       "  text-align: right;\n",
       "  white-space: pre-wrap;\n",
       "}\n",
       "</style>\n",
       "<small>shape: (1, 16)</small><table border=\"1\" class=\"dataframe\"><thead><tr><th>SORT_INDEX</th><th>TITLE</th><th>ID</th><th>FILING_DATE</th><th>RECORD_NUM</th><th>STATUS</th><th>STANDING</th><th>ALERT</th><th>CAN_REINSTATE</th><th>CAN_FILE_AR</th><th>CAN_ALWAYS_FILE_AR</th><th>CAN_FILE_REINSTATEMENT</th><th>ID_key</th><th>DRAWER_DETAIL_LIST</th><th>COMPANY_TITLE</th><th>COMPANY_TYPE</th></tr><tr><td>i64</td><td>list[str]</td><td>i64</td><td>str</td><td>str</td><td>str</td><td>str</td><td>bool</td><td>bool</td><td>bool</td><td>bool</td><td>bool</td><td>str</td><td>list[struct[5]]</td><td>str</td><td>str</td></tr></thead><tbody><tr><td>182</td><td>[&quot;Xtravagant Elegance&quot;, &quot;Trade Name&quot;]</td><td>333362</td><td>&quot;04/05/2022&quot;</td><td>&quot;0005852807&quot;</td><td>&quot;Active&quot;</td><td>&quot;Good Standing&quot;</td><td>false</td><td>false</td><td>false</td><td>false</td><td>false</td><td>&quot;333362&quot;</td><td>[{&quot;Filing Type&quot;,&quot;Trade Name&quot;,null,null,false}, {&quot;Status&quot;,&quot;Active&quot;,null,null,false}, … {&quot;Mailing Address&quot;,&quot;1002 E LASALLE DR\n",
       "BISMARCK, ND 58503-8895&quot;,null,null,false}]</td><td>&quot;Xtravagant Elegance&quot;</td><td>&quot;Trade Name&quot;</td></tr></tbody></table></div>"
      ],
      "text/plain": [
       "shape: (1, 16)\n",
       "┌────────────┬────────────┬────────┬────────────┬───┬────────┬────────────┬────────────┬───────────┐\n",
       "│ SORT_INDEX ┆ TITLE      ┆ ID     ┆ FILING_DAT ┆ … ┆ ID_key ┆ DRAWER_DET ┆ COMPANY_TI ┆ COMPANY_T │\n",
       "│ ---        ┆ ---        ┆ ---    ┆ E          ┆   ┆ ---    ┆ AIL_LIST   ┆ TLE        ┆ YPE       │\n",
       "│ i64        ┆ list[str]  ┆ i64    ┆ ---        ┆   ┆ str    ┆ ---        ┆ ---        ┆ ---       │\n",
       "│            ┆            ┆        ┆ str        ┆   ┆        ┆ list[struc ┆ str        ┆ str       │\n",
       "│            ┆            ┆        ┆            ┆   ┆        ┆ t[5]]      ┆            ┆           │\n",
       "╞════════════╪════════════╪════════╪════════════╪═══╪════════╪════════════╪════════════╪═══════════╡\n",
       "│ 182        ┆ [\"Xtravaga ┆ 333362 ┆ 04/05/2022 ┆ … ┆ 333362 ┆ [{\"Filing  ┆ Xtravagant ┆ Trade     │\n",
       "│            ┆ nt         ┆        ┆            ┆   ┆        ┆ Type\",\"Tra ┆ Elegance   ┆ Name      │\n",
       "│            ┆ Elegance\", ┆        ┆            ┆   ┆        ┆ de         ┆            ┆           │\n",
       "│            ┆ \"Trade…    ┆        ┆            ┆   ┆        ┆ Name\",n…   ┆            ┆           │\n",
       "└────────────┴────────────┴────────┴────────────┴───┴────────┴────────────┴────────────┴───────────┘"
      ]
     },
     "execution_count": 234,
     "metadata": {},
     "output_type": "execute_result"
    }
   ],
   "source": [
    "df.filter(\n",
    "    pl.col(\"COMPANY_TITLE\") == \"Xtravagant Elegance\"\n",
    ")"
   ]
  },
  {
   "cell_type": "markdown",
   "id": "3ab53174",
   "metadata": {},
   "source": [
    "Xiomara A. Uribe, Ecaterina M. Quintana is the Owner Nameof Xtravagant Elegance, SOS CONTROL ID# 5852807"
   ]
  }
 ],
 "metadata": {
  "kernelspec": {
   "display_name": "web_scraping",
   "language": "python",
   "name": "python3"
  },
  "language_info": {
   "codemirror_mode": {
    "name": "ipython",
    "version": 3
   },
   "file_extension": ".py",
   "mimetype": "text/x-python",
   "name": "python",
   "nbconvert_exporter": "python",
   "pygments_lexer": "ipython3",
   "version": "3.10.16"
  }
 },
 "nbformat": 4,
 "nbformat_minor": 5
}
